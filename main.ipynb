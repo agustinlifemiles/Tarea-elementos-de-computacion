{
 "cells": [
  {
   "cell_type": "markdown",
   "metadata": {},
   "source": [
    "Convertir de celsius a fahrenheit"
   ]
  },
  {
   "cell_type": "code",
   "execution_count": 17,
   "metadata": {},
   "outputs": [
    {
     "name": "stdout",
     "output_type": "stream",
     "text": [
      "La temperatur es 69.44 grados Fahrenheit\n"
     ]
    }
   ],
   "source": [
    "\n",
    "temp = float(input(\"ingrese una temperatura en grados celsius:  \"))\n",
    "\n",
    "grados_f = 9/5 * temp + 32\n",
    "\n",
    "print(f\"La temperatur es {grados_f} grados Fahrenheit\")"
   ]
  },
  {
   "cell_type": "markdown",
   "metadata": {},
   "source": [
    "Desglose de billetes"
   ]
  },
  {
   "cell_type": "code",
   "execution_count": null,
   "metadata": {},
   "outputs": [],
   "source": [
    "monto = int(input(\"Ingrese un monto  \"))\n",
    "if monto % 5000 != 0:\n",
    "    print(\"Monto incorrecto\")\n",
    "cincuentas = monto // 50000\n",
    "sh = monto - cincuentas * 50000\n",
    "veintes  =  sh //20000\n",
    "sh -= veintes * 20000\n",
    "dieces = sh // 10000\n",
    "sh -= dieces * 10000\n",
    "cincos = sh // 5000\n",
    "sh -= cincos* 5000\n",
    "miles = sh // 1000\n",
    "\n",
    "print(\"Se van a ocupar\", cincuentas, \"billetes de cincuenta\",  veintes, \"billetes de veinte\",  dieces, \"billetes de diez\",  cincos,  \"billetes de cinco\", miles, \"billetes de mil\")\n"
   ]
  },
  {
   "cell_type": "code",
   "execution_count": 31,
   "metadata": {},
   "outputs": [
    {
     "name": "stdout",
     "output_type": "stream",
     "text": [
      "1071115\n"
     ]
    }
   ],
   "source": [
    "# suma de horas y tiempo\n",
    "tmar = input(\"mar   \")\n",
    "ttierra = input(\"tierra  \")\n",
    "\n",
    "segtier, segmar = int(ttierra[4:6]), int(tmar[4:6])\n",
    "mint, minm = int(ttierra[2:4]), int(tmar[2:4])\n",
    "hort, horm = int(ttierra[0:2]), int(tmar[0:2])\n",
    "\n",
    "s = segmar + segtier\n",
    "remainder = s//60\n",
    "s %= 60\n",
    "\n",
    "\n",
    "\n",
    "m = mint + minm + remainder\n",
    "\n",
    "remainder = m//60\n",
    "m %= 60\n",
    "\n",
    "h = hort + horm + remainder\n",
    "print(f\"{h}{m}{s}\")\n",
    "\n"
   ]
  },
  {
   "cell_type": "markdown",
   "metadata": {},
   "source": []
  }
 ],
 "metadata": {
  "interpreter": {
   "hash": "b89b5cfaba6639976dc87ff2fec6d58faec662063367e2c229c520fe71072417"
  },
  "kernelspec": {
   "display_name": "Python 3.10.1 64-bit",
   "language": "python",
   "name": "python3"
  },
  "language_info": {
   "codemirror_mode": {
    "name": "ipython",
    "version": 3
   },
   "file_extension": ".py",
   "mimetype": "text/x-python",
   "name": "python",
   "nbconvert_exporter": "python",
   "pygments_lexer": "ipython3",
   "version": "3.10.1"
  },
  "orig_nbformat": 4
 },
 "nbformat": 4,
 "nbformat_minor": 2
}
